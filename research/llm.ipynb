{
 "cells": [
  {
   "cell_type": "code",
   "execution_count": 8,
   "id": "e3173f5d",
   "metadata": {},
   "outputs": [],
   "source": [
    "import sys\n",
    "from pathlib import Path\n",
    "\n",
    "root_dir = Path.cwd().parent\n",
    "\n",
    "if str(root_dir) not in sys.path:\n",
    "    sys.path.append(str(root_dir))\n"
   ]
  },
  {
   "cell_type": "code",
   "execution_count": null,
   "id": "6881eae3",
   "metadata": {},
   "outputs": [],
   "source": [
    "from fluent_flow import logger\n",
    "from fluent_flow.core.constants import CONFIG_FILE_PATH\n",
    "from fluent_flow.config.configuration import ConfigurationManager\n",
    "\n",
    "config_manager = ConfigurationManager()\n",
    "\n",
    "def load_config():\n",
    "    llm_config = config_manager.get_llm_config()\n",
    "    return llm_config"
   ]
  },
  {
   "cell_type": "code",
   "execution_count": null,
   "id": "a23a5b77",
   "metadata": {},
   "outputs": [],
   "source": [
    "llm_config = load_config()\n",
    "llm_config"
   ]
  }
 ],
 "metadata": {
  "kernelspec": {
   "display_name": "fluent-flow-7XLkSX_t-py3.12",
   "language": "python",
   "name": "python3"
  },
  "language_info": {
   "codemirror_mode": {
    "name": "ipython",
    "version": 3
   },
   "file_extension": ".py",
   "mimetype": "text/x-python",
   "name": "python",
   "nbconvert_exporter": "python",
   "pygments_lexer": "ipython3",
   "version": "3.12.10"
  }
 },
 "nbformat": 4,
 "nbformat_minor": 5
}
