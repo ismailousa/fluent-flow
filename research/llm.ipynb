{
 "cells": [
  {
   "cell_type": "code",
   "execution_count": 1,
   "id": "e3173f5d",
   "metadata": {},
   "outputs": [],
   "source": [
    "import sys\n",
    "from pathlib import Path\n",
    "\n",
    "root_dir = Path.cwd().parent\n",
    "\n",
    "if str(root_dir) not in sys.path:\n",
    "    sys.path.append(str(root_dir))\n"
   ]
  },
  {
   "cell_type": "code",
   "execution_count": 2,
   "id": "6881eae3",
   "metadata": {},
   "outputs": [
    {
     "name": "stdout",
     "output_type": "stream",
     "text": [
      "[2025-05-19 11:02:56,780: INFO: configuration: Reading the configuration file: /Users/isma/Development/personal/fluent-flow/config/config.yml]\n",
      "[2025-05-19 11:02:56,789: INFO: common: Read the YAML file: /Users/isma/Development/personal/fluent-flow/config/config.yml]\n",
      "[2025-05-19 11:02:56,791: INFO: common: created directory at: artifacts]\n",
      "[2025-05-19 11:02:56,792: INFO: common: created directory at: artifacts/audio]\n"
     ]
    }
   ],
   "source": [
    "from fluent_flow import logger\n",
    "from fluent_flow.core.constants import CONFIG_FILE_PATH\n",
    "from fluent_flow.config.configuration import ConfigurationManager\n",
    "\n",
    "config_manager = ConfigurationManager()\n",
    "\n",
    "def load_config():\n",
    "    llm_config = config_manager.get_llm_config()\n",
    "    return llm_config"
   ]
  },
  {
   "cell_type": "code",
   "execution_count": null,
   "id": "a23a5b77",
   "metadata": {},
   "outputs": [
    {
     "name": "stdout",
     "output_type": "stream",
     "text": [
      "{'provider': 'openai', 'model': 'gpt-4.1-nano', 'temperature': 0.2, 'api_key': 'ffds'}\n"
     ]
    }
   ],
   "source": []
  }
 ],
 "metadata": {
  "kernelspec": {
   "display_name": "fluent-flow-7XLkSX_t-py3.12",
   "language": "python",
   "name": "python3"
  },
  "language_info": {
   "codemirror_mode": {
    "name": "ipython",
    "version": 3
   },
   "file_extension": ".py",
   "mimetype": "text/x-python",
   "name": "python",
   "nbconvert_exporter": "python",
   "pygments_lexer": "ipython3",
   "version": "3.12.10"
  }
 },
 "nbformat": 4,
 "nbformat_minor": 5
}
